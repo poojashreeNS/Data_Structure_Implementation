{
  "nbformat": 4,
  "nbformat_minor": 0,
  "metadata": {
    "colab": {
      "provenance": [],
      "authorship_tag": "ABX9TyO2xrsx0uXkc2EU6g2l+7a+",
      "include_colab_link": true
    },
    "kernelspec": {
      "name": "python3",
      "display_name": "Python 3"
    },
    "language_info": {
      "name": "python"
    }
  },
  "cells": [
    {
      "cell_type": "markdown",
      "metadata": {
        "id": "view-in-github",
        "colab_type": "text"
      },
      "source": [
        "<a href=\"https://colab.research.google.com/github/poojashreeNS/Data_Structure_Implementation/blob/main/HashTable_implementation_python.ipynb\" target=\"_parent\"><img src=\"https://colab.research.google.com/assets/colab-badge.svg\" alt=\"Open In Colab\"/></a>"
      ]
    },
    {
      "cell_type": "code",
      "execution_count": null,
      "metadata": {
        "id": "EvJG0n5ekIKD"
      },
      "outputs": [],
      "source": [
        "## Define HashNode\n",
        "\n",
        "class HashNode:\n",
        "  def __init__(self, key, value):\n",
        "    self.key = key\n",
        "    self.val = value\n",
        "    self.next = None"
      ]
    },
    {
      "cell_type": "code",
      "source": [
        "## Define HashTable\n",
        "\n",
        "class HashTable:\n",
        "  def __init__(self):\n",
        "    self.capacity = INITIAL_CAPACITY\n",
        "    self.size = 0\n",
        "    self.buckets = [None] * self.capacity\n",
        "  \n",
        "  \n",
        "  def hash(self, key):\n",
        "    hashsum = 0\n",
        "    for idx, c in enumerate(key): ## For each character in the key\n",
        "      hashsum += (idx + len(key)) ** ord(c) ## Add (index + length of key) ^ (current char code) \n",
        "      hashsum = hashsum % self.capacity ##Perform modulus to keep hashsum in range [0, self.capacity - 1] \n",
        "    return hashsum\n",
        "  \n",
        "\n",
        "  def insert(self, key, value):\n",
        "    ''' Steps performed:\n",
        "    1. Increment size\n",
        "    2. Compute index of key and Go to the node corresponding to the hash\n",
        "    3. If bucket is empty:\n",
        "    if yes, Create node, add it, return\n",
        "    else, \n",
        "    4. Collision! Iterate to the end of the linked list at provided index.\n",
        "    Add a new node at the end of the list with provided key/value\n",
        "    '''\n",
        "    self.size = self.size + 1\n",
        "    index = self.hash(key)\n",
        "    node = self.buckets[index]\n",
        "\n",
        "    if node is None:\n",
        "      self.buckets[index] = HashNode(key, value)\n",
        "      return\n",
        "    \n",
        "    prev = node\n",
        "    while node is not None:\n",
        "      prev = node\n",
        "      node = node.next\n",
        "    \n",
        "    prev.next = HashNode(key, value)\n",
        "\n",
        "  \n",
        "  def search(self, key):\n",
        "    '''\n",
        "    steps to perform:\n",
        "    1. compute hash for the given key\n",
        "    2. Go to the bucket using the index\n",
        "    3. Iterate over the linked list and fetch the value from node\n",
        "    '''\n",
        "    index = self.hash(key)\n",
        "    node = self.buckets[index]\n",
        "    \n",
        "    while node is not None and key != key:\n",
        "      node = node.next\n",
        "\n",
        "    if node is None:\n",
        "      return None\n",
        "    else \n",
        "      return node.value\n",
        "  \n",
        "\n",
        "  def remove(self, key):\n",
        "    '''\n",
        "    Steps to perform:\n",
        "    1. Compute hash for the given key.\n",
        "    2. Go to the bucket using index\n",
        "    3. check for the key by iterating over the node\n",
        "    4. If found remove from list -- decrease the size of array\n",
        "    '''\n",
        "\n",
        "    index = self.hash(key)\n",
        "    node = self.buckets[index]\n",
        "\n",
        "    while node is not None and key != key:\n",
        "      prev = node\n",
        "      node = node.next\n",
        "    \n",
        "    if node is None:\n",
        "      return None\n",
        "    else:\n",
        "      self.size = self.size - 1\n",
        "      result = node.value\n",
        "\n",
        "      if prev is None:\n",
        "        node = None\n",
        "      else:\n",
        "        prev.next = prev.next.next\n",
        "      return result"
      ],
      "metadata": {
        "id": "7AqqI7ZFlSaM"
      },
      "execution_count": null,
      "outputs": []
    }
  ]
}